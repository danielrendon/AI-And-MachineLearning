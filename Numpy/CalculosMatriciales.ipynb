{
 "cells": [
  {
   "cell_type": "markdown",
   "metadata": {},
   "source": [
    "### Calculos Matriciales"
   ]
  },
  {
   "cell_type": "code",
   "execution_count": 1,
   "metadata": {},
   "outputs": [],
   "source": [
    "import numpy as np"
   ]
  },
  {
   "cell_type": "code",
   "execution_count": 3,
   "metadata": {},
   "outputs": [],
   "source": [
    "A = np.array([[1,2], [3,4]])\n",
    "B = np.array([[5,6], [7,8]])"
   ]
  },
  {
   "cell_type": "code",
   "execution_count": 5,
   "metadata": {},
   "outputs": [
    {
     "name": "stdout",
     "output_type": "stream",
     "text": [
      "[[1 2]\n",
      " [3 4]]\n",
      "------------------\n",
      "[[5 6]\n",
      " [7 8]]\n",
      "------------------\n",
      "[[ 6  8]\n",
      " [10 12]]\n"
     ]
    }
   ],
   "source": [
    "#Suma\n",
    "sum = A + B\n",
    "print(A)\n",
    "print('------------------')\n",
    "print(B)\n",
    "print('------------------')\n",
    "print(sum)"
   ]
  },
  {
   "cell_type": "code",
   "execution_count": 6,
   "metadata": {},
   "outputs": [
    {
     "name": "stdout",
     "output_type": "stream",
     "text": [
      "[[1 2]\n",
      " [3 4]]\n",
      "------------------\n",
      "[[5 6]\n",
      " [7 8]]\n",
      "------------------\n",
      "[[-4 -4]\n",
      " [-4 -4]]\n"
     ]
    }
   ],
   "source": [
    "#Resta\n",
    "rest = A - B\n",
    "print(A)\n",
    "print('------------------') \n",
    "print(B)\n",
    "print('------------------')\n",
    "print(rest)\n"
   ]
  },
  {
   "cell_type": "code",
   "execution_count": 7,
   "metadata": {},
   "outputs": [
    {
     "name": "stdout",
     "output_type": "stream",
     "text": [
      "[[1 2]\n",
      " [3 4]]\n",
      "------------------\n",
      "[[5 6]\n",
      " [7 8]]\n",
      "------------------\n",
      "[[19 22]\n",
      " [43 50]]\n"
     ]
    }
   ],
   "source": [
    "#Multiplicacion (producto punto)\n",
    "mult = np.dot(A,B)\n",
    "print(A)\n",
    "print('------------------')\n",
    "print(B)\n",
    "print('------------------')\n",
    "print(mult)"
   ]
  },
  {
   "cell_type": "code",
   "execution_count": 8,
   "metadata": {},
   "outputs": [
    {
     "name": "stdout",
     "output_type": "stream",
     "text": [
      "[[1 2]\n",
      " [3 4]]\n",
      "------------------\n",
      "[[5 6]\n",
      " [7 8]]\n",
      "------------------\n",
      "[[ 5 12]\n",
      " [21 32]]\n"
     ]
    }
   ],
   "source": [
    "mult = A * B #(elemento por elemento)\n",
    "print(A)\n",
    "print('------------------')\n",
    "print(B)\n",
    "print('------------------')\n",
    "print(mult)"
   ]
  },
  {
   "cell_type": "code",
   "execution_count": 12,
   "metadata": {},
   "outputs": [
    {
     "name": "stdout",
     "output_type": "stream",
     "text": [
      "[[1 2]\n",
      " [3 4]]\n",
      "------------------\n",
      "-2.0\n",
      "------------------\n",
      "[[-2.   1. ]\n",
      " [ 1.5 -0.5]]\n"
     ]
    }
   ],
   "source": [
    "#Determinante\n",
    "det_A = round(np.linalg.det(A),2)\n",
    "inv_A = np.linalg.inv(A)\n",
    "print(A)\n",
    "print('------------------')\n",
    "print(det_A)\n",
    "print('------------------')\n",
    "print(inv_A)"
   ]
  },
  {
   "cell_type": "code",
   "execution_count": 14,
   "metadata": {},
   "outputs": [
    {
     "name": "stdout",
     "output_type": "stream",
     "text": [
      "[[1 2]\n",
      " [3 4]]\n",
      "------------------\n",
      "[ 9 11]\n",
      "------------------\n",
      "[-7.  8.]\n"
     ]
    }
   ],
   "source": [
    "#Resolver Ax = B\n",
    "B = np.array([9,11])\n",
    "x = np.linalg.solve(A,B)\n",
    "print(A)\n",
    "print('------------------')\n",
    "print(B)\n",
    "print('------------------')\n",
    "print(x)"
   ]
  },
  {
   "cell_type": "markdown",
   "metadata": {},
   "source": []
  }
 ],
 "metadata": {
  "kernelspec": {
   "display_name": "newEnv",
   "language": "python",
   "name": "python3"
  },
  "language_info": {
   "codemirror_mode": {
    "name": "ipython",
    "version": 3
   },
   "file_extension": ".py",
   "mimetype": "text/x-python",
   "name": "python",
   "nbconvert_exporter": "python",
   "pygments_lexer": "ipython3",
   "version": "3.12.6"
  }
 },
 "nbformat": 4,
 "nbformat_minor": 2
}
