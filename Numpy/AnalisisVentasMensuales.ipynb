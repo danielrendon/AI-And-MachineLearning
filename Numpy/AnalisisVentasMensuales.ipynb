{
 "cells": [
  {
   "cell_type": "markdown",
   "metadata": {},
   "source": [
    "### Ejercicio"
   ]
  },
  {
   "cell_type": "code",
   "execution_count": 1,
   "metadata": {},
   "outputs": [],
   "source": [
    "import numpy as np"
   ]
  },
  {
   "cell_type": "markdown",
   "metadata": {},
   "source": [
    "Paso 1: Crear Arrays con Datos de Ventas\n",
    "\n",
    "Usa la librería numpy para crear los siguientes arrays:\n",
    "meses: un array con los nombres de los meses del año.\n",
    "ventas_A, ventas_B, ventas_C: arrays que representan las ventas mensuales de tres productos diferentes."
   ]
  },
  {
   "cell_type": "code",
   "execution_count": 2,
   "metadata": {},
   "outputs": [],
   "source": [
    "months = np.array(['Enero', 'Febrero', 'Marzo', 'Abril', 'Mayo', 'Junio', 'Julio', 'Agosto',\n",
    "                    'Septiembre', 'Octubre', 'Noviembre', 'Diciembre'])\n",
    "product_A = np.array([150, 200, 250, 300, 220, 210, 180, 190, 230, 240, 280, 300])\n",
    "product_B = np.array([180, 210, 230, 250, 270, 260, 240, 250, 270, 290, 310, 330])\n",
    "product_C = np.array([200, 220, 240, 260, 280, 300, 320, 340, 360, 380, 400, 420])"
   ]
  },
  {
   "cell_type": "markdown",
   "metadata": {},
   "source": [
    "Paso 2: Estadísticas Básicas\n",
    "\n",
    "Calcula la media y la suma de ventas para los productos A, B y C usando las funciones de NumPy.\n",
    "Imprime estos valores en el formato siguiente:\n",
    "Media de ventas Producto A: <valor>\n",
    "Suma de ventas Producto A: <valor>\n",
    "Repite para los productos B y C."
   ]
  },
  {
   "cell_type": "code",
   "execution_count": 10,
   "metadata": {},
   "outputs": [
    {
     "name": "stdout",
     "output_type": "stream",
     "text": [
      "Media de ventas Producto A:  229.16666666666666 Suma de ventas Producto A:  2750\n",
      "Media de ventas Producto B:  257.5 Suma de ventas Producto B:  3090\n",
      "Media de ventas Producto C:  310.0 Suma de ventas Producto C:  3720\n"
     ]
    }
   ],
   "source": [
    "median_A = np.mean(product_A)\n",
    "median_B = np.mean(product_B)\n",
    "median_C = np.mean(product_C)\n",
    "\n",
    "print(\"Media de ventas Producto A: \", median_A, \"Suma de ventas Producto A: \", np.sum(product_A))\n",
    "print(\"Media de ventas Producto B: \", median_B, \"Suma de ventas Producto B: \", np.sum(product_B))\n",
    "print(\"Media de ventas Producto C: \", median_C, \"Suma de ventas Producto C: \", np.sum(product_C))"
   ]
  },
  {
   "cell_type": "markdown",
   "metadata": {},
   "source": [
    "Paso 3: Manipulación y Análisis de Datos\n",
    "\n",
    "Total de ventas por mes: Suma las ventas de los tres productos para cada mes.\n",
    "Promedio de ventas por producto: Calcula el promedio de ventas por producto.\n",
    "Mes con mayor y menor ventas: Identifica qué mes tuvo el total de ventas más alto y cuál el más bajo usando las funciones np.argmax y np.argmin."
   ]
  },
  {
   "cell_type": "code",
   "execution_count": 8,
   "metadata": {},
   "outputs": [
    {
     "name": "stdout",
     "output_type": "stream",
     "text": [
      "Total de ventas por mes:  [ 530  630  720  810  770  770  740  780  860  910  990 1050]\n",
      "Media de ventas Producto A:  229.16666666666666\n",
      "Media de ventas Producto B:  257.5\n",
      "Media de ventas Producto C:  310.0\n",
      "Mes con mayor venta:  Diciembre con un total de:  1050\n",
      "Mes con menor venta:  Enero con un total de:  530\n"
     ]
    }
   ],
   "source": [
    "Total_per_months = product_A + product_B + product_C\n",
    "print(\"Total de ventas por mes: \", Total_per_months)\n",
    "\n",
    "mean_A = np.mean(product_A) #mean devuelve la media de un array\n",
    "mean_B = np.mean(product_B) \n",
    "mean_C = np.mean(product_C)\n",
    "\n",
    "\n",
    "print(\"Media de ventas Producto A: \", mean_A)\n",
    "print(\"Media de ventas Producto B: \", mean_B)\n",
    "print(\"Media de ventas Producto C: \", mean_C)\n",
    "\n",
    "max_sales_month = np.argmax(Total_per_months)   #argmax devuelve el índice del valor máximo\n",
    "min_sales_month = np.argmin(Total_per_months)   #argmin devuelve el índice del valor mínimo\n",
    "\n",
    "print(\"Mes con mayor venta: \", months[max_sales_month], \"con un total de: \", Total_per_months[max_sales_month])\n",
    "print(\"Mes con menor venta: \", months[min_sales_month], \"con un total de: \", Total_per_months[min_sales_month])\n"
   ]
  },
  {
   "cell_type": "markdown",
   "metadata": {},
   "source": [
    "Paso 4: Operaciones Avanzadas con NumPy\n",
    "\n",
    "Reshape y Transposición:\n",
    "\n",
    "Crea una matriz 2D con las ventas de los tres productos y transforma su forma (reshape) a un array tridimensional con dimensiones (3, 4, 3).\n",
    "Transpone la matriz de ventas para que las filas se conviertan en columnas.\n",
    "Invertir arrays: Invierte las ventas de cada producto en orden de meses.\n",
    "Aplanar la matriz: Convierte la matriz de ventas a un array unidimensional."
   ]
  },
  {
   "cell_type": "code",
   "execution_count": 23,
   "metadata": {},
   "outputs": [
    {
     "name": "stdout",
     "output_type": "stream",
     "text": [
      "Matriz de ventas tridimensional\n",
      "[[[150 200 250]\n",
      "  [300 220 210]\n",
      "  [180 190 230]\n",
      "  [240 280 300]]\n",
      "\n",
      " [[180 210 230]\n",
      "  [250 270 260]\n",
      "  [240 250 270]\n",
      "  [290 310 330]]\n",
      "\n",
      " [[200 220 240]\n",
      "  [260 280 300]\n",
      "  [320 340 360]\n",
      "  [380 400 420]]]\n",
      "-----------------------------------------------------------------------------\n",
      "Matriz de ventas tridimensional transpuesta\n",
      "[[[150 180 200]\n",
      "  [300 250 260]\n",
      "  [180 240 320]\n",
      "  [240 290 380]]\n",
      "\n",
      " [[200 210 220]\n",
      "  [220 270 280]\n",
      "  [190 250 340]\n",
      "  [280 310 400]]\n",
      "\n",
      " [[250 230 240]\n",
      "  [210 260 300]\n",
      "  [230 270 360]\n",
      "  [300 330 420]]]\n",
      "-----------------------------------------------------------------------------\n",
      "matriz de ventas bidimensional\n",
      "[[150 200 250 300 220 210 180 190 230 240 280 300]\n",
      " [180 210 230 250 270 260 240 250 270 290 310 330]\n",
      " [200 220 240 260 280 300 320 340 360 380 400 420]]\n",
      "-----------------------------------------------------------------------------\n",
      "matriz de ventas transpuesta\n",
      "[[150 180 200]\n",
      " [200 210 220]\n",
      " [250 230 240]\n",
      " [300 250 260]\n",
      " [220 270 280]\n",
      " [210 260 300]\n",
      " [180 240 320]\n",
      " [190 250 340]\n",
      " [230 270 360]\n",
      " [240 290 380]\n",
      " [280 310 400]\n",
      " [300 330 420]]\n",
      "-----------------------------------------------------------------------------\n",
      "Ventas invertidas Producto A:  [300 280 240 230 190 180 210 220 300 250 200 150]\n",
      "Ventas invertidas Producto B:  [330 310 290 270 250 240 260 270 250 230 210 180]\n",
      "Ventas invertidas Producto C:  [420 400 380 360 340 320 300 280 260 240 220 200]\n",
      "-----------------------------------------------------------------------------\n",
      "Ventas aplanadas\n",
      "[150 200 250 300 220 210 180 190 230 240 280 300 180 210 230 250 270 260\n",
      " 240 250 270 290 310 330 200 220 240 260 280 300 320 340 360 380 400 420]\n"
     ]
    }
   ],
   "source": [
    "bd_ABC = np.array([product_A, product_B, product_C]) #crea un array de 3x12\n",
    "reshaped_A = bd_ABC.reshape(3,4,3) #reshape cambia la forma a un array tridimensional de 3x4x3\n",
    "print('Matriz de ventas tridimensional')\n",
    "print(reshaped_A)\n",
    "print('-----------------------------------------------------------------------------')\n",
    "reshaped_T = reshaped_A.T #transpone el array tridimensional\n",
    "print('Matriz de ventas tridimensional transpuesta')\n",
    "print(reshaped_T)\n",
    "print('-----------------------------------------------------------------------------')\n",
    "print('matriz de ventas bidimensional')\n",
    "print(bd_ABC)\n",
    "print('-----------------------------------------------------------------------------')\n",
    "bd_ABC_T = bd_ABC.T #transpone el array de 3x12\n",
    "print('matriz de ventas transpuesta')\n",
    "print(bd_ABC_T)\n",
    "print('-----------------------------------------------------------------------------')\n",
    "inverse_A = product_A[::-1] #invierte el array\n",
    "inverse_B = product_B[::-1]\n",
    "inverse_C = product_C[::-1]\n",
    "print('Ventas invertidas Producto A: ', inverse_A)\n",
    "print('Ventas invertidas Producto B: ', inverse_B)\n",
    "print('Ventas invertidas Producto C: ', inverse_C)\n",
    "print('-----------------------------------------------------------------------------')\n",
    "sales_flattened = bd_ABC.flatten() #convierte el array de 3x12 a un array de 1x36\n",
    "print('Ventas aplanadas')\n",
    "print(sales_flattened)"
   ]
  },
  {
   "cell_type": "markdown",
   "metadata": {},
   "source": [
    "Paso 5: Análisis de Elementos Únicos\n",
    "\n",
    "Utiliza np.unique para encontrar los elementos únicos en los datos de ventas y cuenta cuántas veces aparece cada uno."
   ]
  },
  {
   "cell_type": "code",
   "execution_count": 27,
   "metadata": {},
   "outputs": [
    {
     "name": "stdout",
     "output_type": "stream",
     "text": [
      "Valores únicos Producto A:  [150 180 190 200 210 220 230 240 250 280 300]\n",
      "conteo de valores unicos en A:  [1 1 1 1 1 1 1 1 1 1 2]\n",
      "Valores únicos Producto B:  [180 210 230 240 250 260 270 290 310 330]\n",
      "conteo de valores unicos en B:  [1 1 1 1 2 1 2 1 1 1]\n",
      "Valores únicos Producto C:  [200 220 240 260 280 300 320 340 360 380 400 420]\n",
      "conteo de valores unicos en C:  [1 1 1 1 1 1 1 1 1 1 1 1]\n"
     ]
    }
   ],
   "source": [
    "unique_A, countA = np.unique(product_A, return_counts=True) #unique devuelve los valores únicos de un array\n",
    "unique_B, countB = np.unique(product_B, return_counts=True)\n",
    "unique_C, countC = np.unique(product_C, return_counts=True)\n",
    "\n",
    "print('Valores únicos Producto A: ', unique_A)\n",
    "print('conteo de valores unicos en A: ', countA)\n",
    "print('Valores únicos Producto B: ', unique_B)\n",
    "print('conteo de valores unicos en B: ', countB)\n",
    "print('Valores únicos Producto C: ', unique_C)\n",
    "print('conteo de valores unicos en C: ', countC)"
   ]
  },
  {
   "cell_type": "markdown",
   "metadata": {},
   "source": [
    "Paso 6: Indexación y Slicing\n",
    "\n",
    "Ventas del primer trimestre: Extrae las ventas de los tres primeros meses del año.\n",
    "Indexación booleana: Selecciona los meses donde el total de ventas de los tres productos supere los 800.\n",
    "Selección avanzada: Usa una lista de índices para seleccionar las ventas de los meses pares (o selecciona los meses a tu elección) y muestra esas ventas en una nueva matriz."
   ]
  },
  {
   "cell_type": "code",
   "execution_count": 29,
   "metadata": {},
   "outputs": [
    {
     "name": "stdout",
     "output_type": "stream",
     "text": [
      "Ventas del primer trimestre:  [530 630 720]\n",
      "Meses con ventas mayores a 800:  [ 810  860  910  990 1050]\n"
     ]
    }
   ],
   "source": [
    "Total_per_months = product_A + product_B + product_C\n",
    "print('Ventas del primer trimestre: ', Total_per_months[0:3])\n",
    "index = Total_per_months>800\n",
    "print('Meses con ventas mayores a 800: ', Total_per_months[index])\n",
    "\n",
    "idx = []"
   ]
  },
  {
   "cell_type": "code",
   "execution_count": null,
   "metadata": {},
   "outputs": [],
   "source": []
  }
 ],
 "metadata": {
  "kernelspec": {
   "display_name": "newEnv",
   "language": "python",
   "name": "python3"
  },
  "language_info": {
   "codemirror_mode": {
    "name": "ipython",
    "version": 3
   },
   "file_extension": ".py",
   "mimetype": "text/x-python",
   "name": "python",
   "nbconvert_exporter": "python",
   "pygments_lexer": "ipython3",
   "version": "3.12.6"
  }
 },
 "nbformat": 4,
 "nbformat_minor": 2
}
