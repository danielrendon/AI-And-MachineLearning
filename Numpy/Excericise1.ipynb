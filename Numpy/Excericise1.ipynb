{
 "cells": [
  {
   "cell_type": "code",
   "execution_count": 1,
   "metadata": {},
   "outputs": [],
   "source": [
    "import numpy as np"
   ]
  },
  {
   "cell_type": "markdown",
   "metadata": {},
   "source": [
    "Acceder a elementos específicos:\n",
    "Crea un arreglo de 10 números y accede al cuarto y penúltimo elemento usando índices positivos y negativos."
   ]
  },
  {
   "cell_type": "code",
   "execution_count": 5,
   "metadata": {},
   "outputs": [
    {
     "name": "stdout",
     "output_type": "stream",
     "text": [
      "[1 2 3 4 5 6 7 8 9]\n",
      "The 4th element is:  4\n",
      "The second last element is:  8\n"
     ]
    }
   ],
   "source": [
    "array = np.arange(1,10)\n",
    "print(array)\n",
    "print(\"The 4th element is: \",array[3])     # 4th element\n",
    "print(\"The second last element is: \",array[-2])    # 2nd last element    "
   ]
  },
  {
   "cell_type": "markdown",
   "metadata": {},
   "source": [
    "Slicing de arreglos:\n",
    "Dado un arreglo de números del 1 al 20, extrae los elementos entre las posiciones 3 y 7, y luego los elementos de las últimas 5 posiciones."
   ]
  },
  {
   "cell_type": "code",
   "execution_count": 10,
   "metadata": {},
   "outputs": [
    {
     "name": "stdout",
     "output_type": "stream",
     "text": [
      "[ 1  2  3  4  5  6  7  8  9 10 11 12 13 14 15 16 17 18 19 20]\n",
      "[3 4 5 6 7]\n",
      "[16 17 18 19 20]\n"
     ]
    }
   ],
   "source": [
    "array2 = np.arange(1,21,1)\n",
    "print(array2)\n",
    "print(array2[2:7])     # 4th to 8th element\n",
    "print(array2[-5:])   # 5th last to last element"
   ]
  },
  {
   "cell_type": "markdown",
   "metadata": {},
   "source": [
    "Indexing con booleanos:\n",
    "Crea un arreglo de números aleatorios entre 0 y 100. Usa una expresión booleana para acceder solo a los números mayores a 50."
   ]
  },
  {
   "cell_type": "code",
   "execution_count": 13,
   "metadata": {},
   "outputs": [
    {
     "name": "stdout",
     "output_type": "stream",
     "text": [
      "[15 16 56 45 37 67 12 16 99 64]\n",
      "[False False  True False False  True False False  True  True]\n"
     ]
    }
   ],
   "source": [
    "rnd_array = np.random.randint(0,100,10)\n",
    "print(rnd_array)\n",
    "bool_array = rnd_array > 50\n",
    "print(bool_array)"
   ]
  },
  {
   "cell_type": "markdown",
   "metadata": {},
   "source": [
    "Indexación con múltiples índices:\n",
    "Dado un arreglo de 8 elementos, crea una lista de índices para acceder a los elementos en las posiciones 1, 4, y 6."
   ]
  },
  {
   "cell_type": "code",
   "execution_count": 17,
   "metadata": {},
   "outputs": [
    {
     "name": "stdout",
     "output_type": "stream",
     "text": [
      "[0 1 2 3 4 5 6 7]\n",
      "[1 4 6]\n"
     ]
    }
   ],
   "source": [
    "array3 = np.arange(0,8,1)\n",
    "print(array3)\n",
    "index = [1,4,6]\n",
    "print(array3[index])"
   ]
  },
  {
   "cell_type": "markdown",
   "metadata": {},
   "source": [
    "Matrices bidimensionales:\n",
    "Genera una matriz 4x4 de números aleatorios entre 10 y 50, y accede a la submatriz de 2x2 ubicada en la esquina inferior derecha."
   ]
  },
  {
   "cell_type": "code",
   "execution_count": 19,
   "metadata": {},
   "outputs": [
    {
     "name": "stdout",
     "output_type": "stream",
     "text": [
      "[[24 10 28 40]\n",
      " [14 19 24 45]\n",
      " [34 13 44 33]\n",
      " [49 31 26 48]]\n",
      "[[44 33]\n",
      " [26 48]]\n"
     ]
    }
   ],
   "source": [
    "array4 = np.random.randint(10, 51, size=(4, 4))\n",
    "print(array4)\n",
    "print(array4[-2:,-2:])   # last 2 rows and last 2 columns"
   ]
  },
  {
   "cell_type": "code",
   "execution_count": null,
   "metadata": {},
   "outputs": [],
   "source": []
  }
 ],
 "metadata": {
  "kernelspec": {
   "display_name": "newEnv",
   "language": "python",
   "name": "python3"
  },
  "language_info": {
   "codemirror_mode": {
    "name": "ipython",
    "version": 3
   },
   "file_extension": ".py",
   "mimetype": "text/x-python",
   "name": "python",
   "nbconvert_exporter": "python",
   "pygments_lexer": "ipython3",
   "version": "3.12.6"
  }
 },
 "nbformat": 4,
 "nbformat_minor": 2
}
