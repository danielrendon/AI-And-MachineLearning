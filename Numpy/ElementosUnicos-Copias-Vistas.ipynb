{
 "cells": [
  {
   "cell_type": "markdown",
   "metadata": {},
   "source": [
    "### Unique"
   ]
  },
  {
   "cell_type": "code",
   "execution_count": 1,
   "metadata": {},
   "outputs": [],
   "source": [
    "import numpy as np"
   ]
  },
  {
   "cell_type": "code",
   "execution_count": 5,
   "metadata": {},
   "outputs": [
    {
     "name": "stdout",
     "output_type": "stream",
     "text": [
      "1\n"
     ]
    }
   ],
   "source": [
    "survey_responses = np.array([\"bueno\",\"excelente\",\"malo\",\n",
    "                             \"bueno\",\"malo\",\"excelente\",\n",
    "                             \"bueno\",\"bueno\",\"malo\",\n",
    "                             \"excelente\"])\n",
    "print(survey_responses.ndim)    # 1 dimension array"
   ]
  },
  {
   "cell_type": "markdown",
   "metadata": {},
   "source": [
    "### Obtener elementos unicos"
   ]
  },
  {
   "cell_type": "code",
   "execution_count": 6,
   "metadata": {},
   "outputs": [
    {
     "name": "stdout",
     "output_type": "stream",
     "text": [
      "['bueno' 'excelente' 'malo']\n"
     ]
    }
   ],
   "source": [
    "print(np.unique(survey_responses))    # ['bueno' 'excelente' 'malo']"
   ]
  },
  {
   "cell_type": "markdown",
   "metadata": {},
   "source": [
    "### Conteo de cada elemento unico"
   ]
  },
  {
   "cell_type": "code",
   "execution_count": 8,
   "metadata": {},
   "outputs": [
    {
     "name": "stdout",
     "output_type": "stream",
     "text": [
      "['bueno' 'excelente' 'malo']\n",
      "[4 3 3]\n"
     ]
    }
   ],
   "source": [
    "unique_elements, counts = np.unique(survey_responses, return_counts=True)\n",
    "print(unique_elements)    # ['bueno' 'excelente' 'malo']\n",
    "print(counts)    # [4 3 3]"
   ]
  },
  {
   "cell_type": "markdown",
   "metadata": {},
   "source": [
    "### Vistas"
   ]
  },
  {
   "cell_type": "code",
   "execution_count": 20,
   "metadata": {},
   "outputs": [
    {
     "name": "stdout",
     "output_type": "stream",
     "text": [
      "Array_x =>  [0 1 2 3 4 5 6 7 8 9]\n",
      "View_y =>   [1 2]\n",
      "------------------------------------------\n",
      "Array_x =>  [ 0 10 11  3  4  5  6  7  8  9]\n",
      "View_y =>   [10 11]\n"
     ]
    }
   ],
   "source": [
    "array_x = np.arange(10)\n",
    "view_y = array_x[1:3]   # view_y is a view of array_x of index 1,2 second number of the slice is exclusive  \n",
    "print('Array_x => ',array_x)\n",
    "print('View_y =>  ',view_y)\n",
    "array_x[1:3] = [10,11]   # array_x is updated with values 10,11 in index 1,2\n",
    "print(\"------------------------------------------\")\n",
    "print('Array_x => ',array_x)\n",
    "print('View_y =>  ',view_y)    # view_y is updated as well "
   ]
  },
  {
   "cell_type": "markdown",
   "metadata": {},
   "source": [
    "### Copias\n",
    "La anotacion para crear una copia es usar doble corchete a la hora de definir la copia"
   ]
  },
  {
   "cell_type": "code",
   "execution_count": 22,
   "metadata": {},
   "outputs": [
    {
     "name": "stdout",
     "output_type": "stream",
     "text": [
      "Array_x =>  [0 1 2 3 4 5 6 7 8 9]\n",
      "Copy_x =>   [1 2]\n",
      "------------------------------------------\n",
      "Array_x =>  [ 0 10 11  3  4  5  6  7  8  9]\n",
      "Copy_x =>   [1 2]\n"
     ]
    }
   ],
   "source": [
    "array_x = np.arange(10)\n",
    "copy_x = array_x[[1,2]]   # copy_x is a copy of array_x of index 1,2\n",
    "#To define a copy of an array use two square brackets or (copy() method to copy the full array)\n",
    "print('Array_x => ',array_x)\n",
    "print('Copy_x =>  ',copy_x)\n",
    "array_x[1:3] = [10,11]   # array_x is updated with values 10,11 in index 1,2\n",
    "print(\"------------------------------------------\")\n",
    "print('Array_x => ',array_x)\n",
    "print('Copy_x =>  ',copy_x)    # copy_x is not updated"
   ]
  },
  {
   "cell_type": "code",
   "execution_count": null,
   "metadata": {},
   "outputs": [],
   "source": []
  }
 ],
 "metadata": {
  "kernelspec": {
   "display_name": "newEnv",
   "language": "python",
   "name": "python3"
  },
  "language_info": {
   "codemirror_mode": {
    "name": "ipython",
    "version": 3
   },
   "file_extension": ".py",
   "mimetype": "text/x-python",
   "name": "python",
   "nbconvert_exporter": "python",
   "pygments_lexer": "ipython3",
   "version": "3.12.6"
  }
 },
 "nbformat": 4,
 "nbformat_minor": 2
}
